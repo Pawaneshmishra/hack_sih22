{
 "cells": [
  {
   "cell_type": "code",
   "execution_count": 3,
   "id": "11a31a47",
   "metadata": {},
   "outputs": [
    {
     "data": {
      "text/plain": [
       "LinearRegression()"
      ]
     },
     "execution_count": 3,
     "metadata": {},
     "output_type": "execute_result"
    }
   ],
   "source": [
    "    import pandas as pd\n",
    "    from sklearn import linear_model\n",
    "    import math\n",
    "\n",
    "    file_path = \"dataset.csv\"\n",
    "    df = pd.read_csv(file_path)\n",
    "    df1 = pd.read_csv(file_path)\n",
    "\n",
    "    pred = pd.Series(df['Suggested Job Role'].unique())\n",
    "\n",
    "\n",
    "    #=========#\n",
    "\n",
    "\n",
    "    df.loc[df['Suggested Job Role'] == 'Database Developer', 'Suggested Job Role'] = 0\n",
    "    df.loc[df['Suggested Job Role'] == 'Portal Administrator', 'Suggested Job Role'] = 1\n",
    "    df.loc[df['Suggested Job Role'] == 'Systems Security Administrator', 'Suggested Job Role'] = 2\n",
    "    df.loc[df['Suggested Job Role'] == 'Business Systems Analyst', 'Suggested Job Role'] = 3\n",
    "    df.loc[df['Suggested Job Role'] == 'Software Systems Engineer', 'Suggested Job Role'] = 4\n",
    "    df.loc[df['Suggested Job Role'] == 'Business Intelligence Analyst', 'Suggested Job Role'] = 5\n",
    "    df.loc[df['Suggested Job Role'] == 'CRM Technical Developer', 'Suggested Job Role'] = 6\n",
    "    df.loc[df['Suggested Job Role'] == 'Mobile Applications Developer', 'Suggested Job Role'] = 7\n",
    "    df.loc[df['Suggested Job Role'] == 'UX Designer', 'Suggested Job Role'] = 8\n",
    "    df.loc[df['Suggested Job Role'] == 'Quality Assurance Associate', 'Suggested Job Role'] = 9\n",
    "    df.loc[df['Suggested Job Role'] == 'Web Developer', 'Suggested Job Role'] = 10\n",
    "    df.loc[df['Suggested Job Role'] == 'Information Security Analyst', 'Suggested Job Role'] = 11\n",
    "    df.loc[df['Suggested Job Role'] == 'CRM Business Analyst', 'Suggested Job Role'] = 12\n",
    "    df.loc[df['Suggested Job Role'] == 'Technical Support', 'Suggested Job Role'] = 13\n",
    "    df.loc[df['Suggested Job Role'] == 'Project Manager', 'Suggested Job Role'] = 14\n",
    "    df.loc[df['Suggested Job Role'] == 'Information Technology Manager', 'Suggested Job Role'] = 15\n",
    "    df.loc[df['Suggested Job Role'] == 'Programmer Analyst', 'Suggested Job Role'] = 16\n",
    "    df.loc[df['Suggested Job Role'] == 'Design & UX', 'Suggested Job Role'] = 17\n",
    "    df.loc[df['Suggested Job Role'] == 'Solutions Architect', 'Suggested Job Role'] = 18\n",
    "    df.loc[df['Suggested Job Role'] == 'Systems Analyst', 'Suggested Job Role'] = 19\n",
    "    df.loc[df['Suggested Job Role'] == 'Network Security Administrator', 'Suggested Job Role'] = 20\n",
    "    df.loc[df['Suggested Job Role'] == 'Data Architect', 'Suggested Job Role'] = 21\n",
    "    df.loc[df['Suggested Job Role'] == 'Software Developer', 'Suggested Job Role'] = 22\n",
    "    df.loc[df['Suggested Job Role'] == 'E-Commerce Analyst', 'Suggested Job Role'] = 23\n",
    "    df.loc[df['Suggested Job Role'] == 'Technical Services/Help Desk/Tech Support', 'Suggested Job Role'] = 24\n",
    "    df.loc[df['Suggested Job Role'] == 'Information Technology Auditor', 'Suggested Job Role'] = 25\n",
    "    df.loc[df['Suggested Job Role'] == 'Database Manager', 'Suggested Job Role'] = 26\n",
    "    df.loc[df['Suggested Job Role'] == 'Applications Developer', 'Suggested Job Role'] = 27\n",
    "    df.loc[df['Suggested Job Role'] == 'Database Administrator', 'Suggested Job Role'] = 28\n",
    "    df.loc[df['Suggested Job Role'] == 'Network Engineer', 'Suggested Job Role'] = 29\n",
    "    df.loc[df['Suggested Job Role'] == 'Software Engineer', 'Suggested Job Role'] = 30\n",
    "    df.loc[df['Suggested Job Role'] == 'Technical Engineer', 'Suggested Job Role'] = 31\n",
    "    df.loc[df['Suggested Job Role'] == 'Network Security Engineer', 'Suggested Job Role'] = 32\n",
    "    df.loc[df['Suggested Job Role'] == 'Software Quality Assurance (QA) / Testing', 'Suggested Job Role'] = 33\n",
    "\n",
    "    df.loc[df['Extra-courses did'] == 'yes', 'Extra-courses did'] = 1\n",
    "    df.loc[df['Extra-courses did'] == 'no', 'Extra-courses did'] = 0\n",
    "\n",
    "    df.loc[df['can work long time before system?'] == 'yes', 'can work long time before system?'] = 1\n",
    "    df.loc[df['can work long time before system?'] == 'no', 'can work long time before system?'] = 0\n",
    "\n",
    "    df.loc[df['self-learning capability?'] == 'yes', 'self-learning capability?'] = 1\n",
    "    df.loc[df['self-learning capability?'] == 'no', 'self-learning capability?'] = 0\n",
    "\n",
    "    X = df[['Acedamic percentage in Operating Systems', 'percentage in Algorithms',\n",
    "        'Percentage in Programming Concepts',\n",
    "        'Percentage in Software Engineering', 'Percentage in Computer Networks',\n",
    "        'Percentage in Electronics Subjects',\n",
    "        'Percentage in Computer Architecture', 'Percentage in Mathematics',\n",
    "        'Percentage in Communication skills', 'Hours working per day',\n",
    "        'Logical quotient rating', 'hackathons', 'coding skills rating',\n",
    "        'public speaking points', 'can work long time before system?',\n",
    "        'self-learning capability?', 'Extra-courses did']]\n",
    "\n",
    "    y = df['Suggested Job Role']\n",
    "\n",
    "    #=========#\n",
    "    regr = linear_model.LinearRegression()\n",
    "    regr.fit(X, y)"
   ]
  },
  {
   "cell_type": "code",
   "execution_count": 4,
   "id": "264dd002",
   "metadata": {},
   "outputs": [],
   "source": [
    "import pickle\n",
    "pickle.dump(regr,open(\"predictionsmodel.sav\", \"wb\"))"
   ]
  }
 ],
 "metadata": {
  "kernelspec": {
   "display_name": "Python 3 (ipykernel)",
   "language": "python",
   "name": "python3"
  },
  "language_info": {
   "codemirror_mode": {
    "name": "ipython",
    "version": 3
   },
   "file_extension": ".py",
   "mimetype": "text/x-python",
   "name": "python",
   "nbconvert_exporter": "python",
   "pygments_lexer": "ipython3",
   "version": "3.9.7"
  }
 },
 "nbformat": 4,
 "nbformat_minor": 5
}
